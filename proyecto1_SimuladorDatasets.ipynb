{
 "cells": [
  {
   "cell_type": "markdown",
   "metadata": {},
   "source": [
    "## Importando librerías"
   ]
  },
  {
   "cell_type": "code",
   "execution_count": 2,
   "metadata": {},
   "outputs": [],
   "source": [
    "import pandas as pd\n",
    "import numpy as np\n",
    "import random\n",
    "import string\n",
    "from datetime import datetime\n",
    "from scipy.stats import truncnorm\n"
   ]
  },
  {
   "cell_type": "markdown",
   "metadata": {},
   "source": [
    "## Función 'days_between' para calcular el la diferencia entre 2 fechas, recibe como parámetros:\n",
    "- d1: fecha mínima\n",
    "- d2: fecha máxima\n",
    "\n",
    "retorna:\n",
    "- un 'int' que se refiere a la diferencia en días entre las dos fechas"
   ]
  },
  {
   "cell_type": "code",
   "execution_count": 3,
   "metadata": {},
   "outputs": [],
   "source": [
    "def days_between(d1, d2):\n",
    "    d1 = datetime.strptime(d1, \"%Y-%m-%d\")\n",
    "    d2 = datetime.strptime(d2, \"%Y-%m-%d\")\n",
    "    return (d2 - d1).days"
   ]
  },
  {
   "cell_type": "markdown",
   "metadata": {},
   "source": [
    "## Función 'get_count' para calcular los valores posibles en caso de columnas numéricas, categóricas o dates, recibe como parámetros:\n",
    "- col: la columna de la cual queremos calcular el total de valores\n",
    "\n",
    "retorna:\n",
    "- un 'int' el cual se refiere a la cantidad total de valores posibles"
   ]
  },
  {
   "cell_type": "code",
   "execution_count": 64,
   "metadata": {},
   "outputs": [],
   "source": [
    "def get_count(col):\n",
    "    if col['type'] == 'category':\n",
    "        return len(col['values'])\n",
    "    elif col['type'] == 'numeric':\n",
    "        return col['values']['max'] - col['values']['min']\n",
    "    elif col['type'] == 'date':\n",
    "        return days_between(col['max'], col['min'])\n",
    "    else:\n",
    "        return None"
   ]
  },
  {
   "cell_type": "markdown",
   "metadata": {},
   "source": [
    "## Función 'getRows' para calcular el número máximo de registros que tendrán el dataframe (Este función y las anteriores son implementadas o usadas solamente en los casos en los que la columna 'random' de cualquier configuración de dataframe sea False), recibe como parámetros:\n",
    "- conf: la configuración del dataframe del cual queremos obtener la cantidad máxima de registros\n",
    "\n",
    "retorna:\n",
    "- un 'int' que corresponde al número mayor entre todos los posibles valores de cada columna"
   ]
  },
  {
   "cell_type": "code",
   "execution_count": 5,
   "metadata": {},
   "outputs": [],
   "source": [
    "def getRows(conf):\n",
    "    columns_total_values = [\n",
    "        get_count(col) for col in conf['columns'] if get_count(col) is not None\n",
    "    ]\n",
    "\n",
    "    return max(columns_total_values)"
   ]
  },
  {
   "cell_type": "markdown",
   "metadata": {},
   "source": [
    "## Función 'generate_unique_id' para crear un str de 16 caracteres de manera aleatoria\n",
    "retorna:\n",
    "- un 'str' el cual es un string de 16 caracteres, que pueden ser letras y números"
   ]
  },
  {
   "cell_type": "code",
   "execution_count": 54,
   "metadata": {},
   "outputs": [],
   "source": [
    "def generate_unique_id():\n",
    "    caracteres = string.ascii_letters + string.digits\n",
    "    unique_id = ''.join(random.choices(caracteres, k=16))\n",
    "    return unique_id"
   ]
  },
  {
   "cell_type": "markdown",
   "metadata": {},
   "source": [
    "## Función 'generate_unique_ids' para crear 'n' str de 16 caracteres, donde 'n' es el número de registros máximos que tendrá el dataframe dependiendo de la configuración, recibe como parámetros:\n",
    "- count: el número total de 'ids' que necesitamos\n",
    "\n",
    "retorna:\n",
    "- una 'list' que contiene todos los 'ids' distintos"
   ]
  },
  {
   "cell_type": "code",
   "execution_count": 7,
   "metadata": {},
   "outputs": [],
   "source": [
    "def generate_unique_ids(count):\n",
    "    unique_ids = set()\n",
    "    while len(unique_ids) < count:\n",
    "        unique_ids.add(generate_unique_id())\n",
    "    return list(unique_ids)\n"
   ]
  },
  {
   "cell_type": "markdown",
   "metadata": {},
   "source": [
    "## Función 'generate_truncated_normal_data' para calcular valores de columnas numéricas en caso de que exista media y desviación, recibe como parámetros:\n",
    "- diccionario que contiene los valores estadísticos\n",
    "- cantidad de valores que deseamos\n",
    "\n",
    "retorna:\n",
    "- un objeto 'list' que contiene todos los valores calculados a partir de la información estadística proporcionada"
   ]
  },
  {
   "cell_type": "code",
   "execution_count": 61,
   "metadata": {},
   "outputs": [],
   "source": [
    "def generate_truncated_normal_data(values, size):\n",
    "    values = dict(values)\n",
    "    \n",
    "    for key, value in values.items():\n",
    "        if value is None:\n",
    "            raise TypeError('Se esperaban valores numéricos')\n",
    "    \n",
    "    min_val = float(values['min'])\n",
    "    max_val = float(values['max'])\n",
    "    mean = float(values['mean'])\n",
    "    std = float(values['std'])\n",
    "\n",
    "    # Calcular los parámetros de la distribución normal truncada\n",
    "    a, b = (min_val - mean) / std, (max_val - mean) / std\n",
    "    data = truncnorm(a, b, loc=mean, scale=std).rvs(size)\n",
    "    return data"
   ]
  },
  {
   "cell_type": "markdown",
   "metadata": {},
   "source": [
    "## Función 'generate_col' para calcular cada una de las columnas de cualquier dataframe, esta función recibe como parámetros:\n",
    "- col: se refiere a la configuración de la columna que deseamos crear.\n",
    "- conf_list: es la lista de las configuraciones de dataframe, nos servirá para utilizar recursividad, ya que se necesitará para los casos donde existan llave foráneas.\n",
    "- rows: se refiere al número de valores totales que tendrá nuestra columna.\n",
    "- df_dict: este es un diccionario de dataframes. En los casos que existan llaves foráneas, nos servirá para verificar que el dataframe al que se hace referencia, ya ha sido creado, en caso contrario, lo crearemos y lo agregaremos a 'df_dict'\n",
    "\n",
    "retorna: \n",
    "- un objeto 'Series' de pandas, el cual es la columna que deseabamos generar"
   ]
  },
  {
   "cell_type": "code",
   "execution_count": 62,
   "metadata": {},
   "outputs": [],
   "source": [
    "def generate_col(col, conf_list, rows, df_dict):\n",
    "    if col['type'] == \"category\":\n",
    "        return random.choices(col['values'], k=rows)\n",
    "    elif col['type'] == \"numeric\":\n",
    "        if 'mean' in col['values'] and 'std' in col['values']:\n",
    "            return generate_truncated_normal_data(col['values'], rows)\n",
    "        return np.random.randint(col['values']['min'], col['values']['max'] + 1, size=rows)\n",
    "    elif col['type'] == \"unique\":\n",
    "        return generate_unique_ids(rows)\n",
    "    elif col['type'] == 'foreign':\n",
    "        ds_name, col_name_ref = col['values'].split('.')\n",
    "        if ds_name in df_dict:\n",
    "            return random.choices(df_dict[ds_name][col_name_ref], k=rows)\n",
    "        else:\n",
    "            temp_conf = [c for c in conf_list if c['ds'] == ds_name]\n",
    "            temp_df = build_dataframe(temp_conf[0], conf_list, df_dict)\n",
    "            df_dict[ds_name] = temp_df\n",
    "            return random.choices(df_dict[ds_name][col_name_ref], k=rows)\n",
    "    else:\n",
    "        raise ValueError(\"Tipo de columna no válida\")"
   ]
  },
  {
   "cell_type": "markdown",
   "metadata": {},
   "source": [
    "## Función 'build_dataframe' se utiliza para crear únicamente 1 dataframe, recibe como parámetros:\n",
    "- conf: la configuración completa del dataframe a crear\n",
    "- conf_list: la lista de configuraciones, servirá para enviar las configuraciones a 'fun' para los casos recursivos o de llave foránea.\n",
    "- df_dict: enviamos la diccionarios de diccionarios para ser utilizado en 'fun' \n",
    "\n",
    "retorna:\n",
    "- un objeto 'DataFrame' de pandas"
   ]
  },
  {
   "cell_type": "code",
   "execution_count": 49,
   "metadata": {},
   "outputs": [],
   "source": [
    "def build_dataframe(conf, conf_list, df_dict):\n",
    "    rows = conf.get('random_rows') if conf['random'] else getRows(conf)\n",
    "    df = pd.DataFrame()\n",
    "\n",
    "    for col in conf['columns']:\n",
    "        df[col['name']] = generate_col(col, conf_list, rows, df_dict)\n",
    "    \n",
    "    return df"
   ]
  },
  {
   "cell_type": "markdown",
   "metadata": {},
   "source": [
    "## Función 'build_dataframes' sirve para crear la lista funal de dataframes a partir de una lista de configuraciones, recibe solamente un parámetro:\n",
    "- conf_list: lista de configuraciones de los dataframes a crear.\n",
    "\n",
    "retorna:\n",
    "- una 'list' que contiene los diccionarios generados a partir de las configuraciones proporcionadas"
   ]
  },
  {
   "cell_type": "code",
   "execution_count": 37,
   "metadata": {},
   "outputs": [],
   "source": [
    "def build_dataframes(conf_list):\n",
    "    df_dict = {}\n",
    "    result = []\n",
    "\n",
    "    for conf in conf_list:\n",
    "        df = build_dataframe(conf, conf_list, df_dict)\n",
    "        df_dict[conf['ds']] = df\n",
    "        result.append(df)\n",
    "\n",
    "    # list(df_dict.values())\n",
    "    return result"
   ]
  },
  {
   "cell_type": "markdown",
   "metadata": {},
   "source": [
    "## Ejemplo de uso"
   ]
  },
  {
   "cell_type": "code",
   "execution_count": 68,
   "metadata": {},
   "outputs": [
    {
     "data": {
      "text/plain": [
       "[                 id area subarea\n",
       " 0  Q5tNoYylu5hz92Oa   HR     SA3\n",
       " 1  ZEQ4sR3HamC0keVD   HR     SA1\n",
       " 2  Yt2ONYzq4BN5rnkN  FIN     SA3\n",
       " 3  RO3eQxzAt6m4S4Xc  FIN     SA4,\n",
       "                   id subarea  income         goal\n",
       " 0   4ZAgLZG6DX2Pg6aj     SA3       1  1710.152826\n",
       " 1   q5fVdL93rdqz7bV6     SA3      10  1797.885372\n",
       " 2   6OW07kCYtg6tbY0I     SA1       6  1666.560907\n",
       " 3   DdLqhmBd3TSLGRYU     SA1       6  1942.661916\n",
       " 4   6Um3jmbp4X3SFdwV     SA4       5  1972.050076\n",
       " ..               ...     ...     ...          ...\n",
       " 95  i41ngaUrkfoXtmac     SA3       8  1694.970959\n",
       " 96  Ct4YiydsKm7l59EG     SA3      10  1979.214321\n",
       " 97  LIeTLXL31ydvzGOQ     SA3      10  1915.268247\n",
       " 98  FDX4E4erqKIgzeAn     SA3       3  1794.796381\n",
       " 99  k7iiFPOZ29aD8uM2     SA4       4  1930.856301\n",
       " \n",
       " [100 rows x 4 columns],\n",
       "   area                id  age\n",
       " 0   TI  9iAPbToECZ4oEcFv    5\n",
       " 1  FIN  y41AGZrKEhP9bK61    9\n",
       " 2  FIN  UNMT5uQfFYDWrYLt    9\n",
       " 3   TI  LwUtdWvflqQu6LoA    7\n",
       " 4  FIN  LkFFSxPlyROKXNz2    9\n",
       " 5   TI  g1pnJoIIa8UOEz4V   13\n",
       " 6   TI  qntv2kvE34FaPINt   14\n",
       " 7  FIN  RBSCLCXT4qmPVNUr   10\n",
       " 8  FIN  d6yQnc2FrJz28MLa    6\n",
       " 9   HR  Qmax4P706ByHXyoe    8]"
      ]
     },
     "execution_count": 68,
     "metadata": {},
     "output_type": "execute_result"
    }
   ],
   "source": [
    "d1 = {\n",
    "        \"ds\": \"dataset1\",\n",
    "        \"columns\": [\n",
    "            {\n",
    "                \"name\": \"area\",\n",
    "                \"type\": \"category\",\n",
    "                \"values\": [\"TI\", \"FIN\", \"HR\"]\n",
    "            },\n",
    "            {\n",
    "                \"name\": \"id\",\n",
    "                \"type\": \"unique\"\n",
    "            },\n",
    "            {\n",
    "                'name': 'age',\n",
    "                'type': 'numeric',\n",
    "                'values': {'min': 5, 'max':15}\n",
    "            }\n",
    "        ],\n",
    "        \"random\": False\n",
    "    }\n",
    "\n",
    "\n",
    "d2 = {\n",
    "        \"ds\": \"dataset2\",\n",
    "        \"columns\": [\n",
    "            {\n",
    "                \"name\": \"id\",\n",
    "                \"type\": \"unique\"\n",
    "            },\n",
    "            {\n",
    "                \"name\": \"area\",\n",
    "                \"type\": \"foreign\",\n",
    "                \"values\": \"dataset1.area\"\n",
    "            },\n",
    "            {\n",
    "                \"name\": \"subarea\",\n",
    "                \"type\": \"category\",\n",
    "                \"values\": [\"SA1\", \"SA2\", \"SA3\", \"SA4\"]\n",
    "            }\n",
    "        ],\n",
    "        \"random\": False\n",
    "    }\n",
    "\n",
    "\n",
    "d3 = {\n",
    "        \"ds\": \"dataset3\",\n",
    "        \"columns\": [\n",
    "            {\n",
    "                \"name\": \"id\",\n",
    "                \"type\": \"unique\"\n",
    "            },\n",
    "            {\n",
    "                \"name\": \"subarea\",\n",
    "                \"type\": \"foreign\",\n",
    "                \"values\": \"dataset2.subarea\"\n",
    "            },\n",
    "            {\n",
    "                \"name\": \"income\",\n",
    "                \"type\": \"numeric\",\n",
    "                \"values\": {\"min\": 1, \"max\": 10}\n",
    "            },\n",
    "            {\n",
    "                \"name\": \"goal\",\n",
    "                \"type\": \"numeric\",\n",
    "                \"values\": {\"min\": 1582.0, \"max\": 2042.666667, \"std\": 605.884753,\n",
    "                \"mean\": 2349}\n",
    "            }\n",
    "            ],\n",
    "        \"random\": True,\n",
    "        \"random_rows\": 100\n",
    "    }\n",
    "\n",
    "configuration_list = [d2, d3, d1]\n",
    "\n",
    "dataframe_list = build_dataframes(configuration_list)\n",
    "\n",
    "dataframe_list\n"
   ]
  }
 ],
 "metadata": {
  "kernelspec": {
   "display_name": "base",
   "language": "python",
   "name": "python3"
  },
  "language_info": {
   "codemirror_mode": {
    "name": "ipython",
    "version": 3
   },
   "file_extension": ".py",
   "mimetype": "text/x-python",
   "name": "python",
   "nbconvert_exporter": "python",
   "pygments_lexer": "ipython3",
   "version": "3.11.7"
  }
 },
 "nbformat": 4,
 "nbformat_minor": 2
}
